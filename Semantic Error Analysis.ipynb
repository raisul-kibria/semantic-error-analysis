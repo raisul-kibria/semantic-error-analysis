{
 "cells": [
  {
   "cell_type": "markdown",
   "metadata": {},
   "source": [
    "## Semantic Error Analysis of Bangla Simple Sentences\n",
    "\n",
    "The project is very basic so only two libraries are required. **Pandas** to import the csv data and **Numpy** for the random choice function."
   ]
  },
  {
   "cell_type": "code",
   "execution_count": 155,
   "metadata": {},
   "outputs": [],
   "source": [
    "import pandas as pd\n",
    "import numpy as np"
   ]
  },
  {
   "cell_type": "markdown",
   "metadata": {},
   "source": [
    "First a Python dictionary is used to store the list of different category of nouns indexed by their types. Same approach is used to store different categories of verbs."
   ]
  },
  {
   "cell_type": "code",
   "execution_count": 156,
   "metadata": {},
   "outputs": [],
   "source": [
    "nouns = {\n",
    "     'মানুষ': [ 'মানুষ', 'রিতা','মিতা', 'সজিব', 'সোহান', 'জামাল', 'কামাল', 'সে', 'তুমি', 'আমি', 'আমরা', 'তোমরা'],\n",
    "     'পক্ষি' :['পাখি', 'বক', 'ময়না', 'টিয়া', 'ঘুঘু', 'দোয়েল', 'কোকিল']\n",
    "}"
   ]
  },
  {
   "cell_type": "code",
   "execution_count": 157,
   "metadata": {},
   "outputs": [],
   "source": [
    "verbs = {\n",
    "    'পড়' : ['পড়েছিল', 'পড়া', 'পড়বে', 'পড়ল', 'পড়ি', 'পড়ে'],\n",
    "    'কর' : ['করেছিল', 'করা', 'করবে', 'করল', 'করি', 'করে'],\n",
    "    'খায়' : ['খাবো', 'খেল', 'খাবে', 'খেয়েছিল', 'খাই', 'খায়']\n",
    "}"
   ]
  },
  {
   "cell_type": "markdown",
   "metadata": {},
   "source": [
    "Noun x Verb matrix is created using all the noun types as columns and verb types as the rows. Every correspondin cell entry holds an id to the objects table. Given the noun and verb type, this id can be used to lookup the object table to determine all the suitable objects. \n",
    "\n",
    "**Note:** If there is a noun and verb type which are not used together the corresponding entry in the matrix is ' '. (*a single white space*)\n",
    "\n",
    "The matrix is stored in n_v.csv file wich is read using the read_csv method of pandas. index_col = 0 specifies that the first column is the index for table (so that pandas do not create another auto incremental index column)."
   ]
  },
  {
   "cell_type": "code",
   "execution_count": 160,
   "metadata": {},
   "outputs": [
    {
     "data": {
      "text/html": [
       "<div>\n",
       "<style scoped>\n",
       "    .dataframe tbody tr th:only-of-type {\n",
       "        vertical-align: middle;\n",
       "    }\n",
       "\n",
       "    .dataframe tbody tr th {\n",
       "        vertical-align: top;\n",
       "    }\n",
       "\n",
       "    .dataframe thead th {\n",
       "        text-align: right;\n",
       "    }\n",
       "</style>\n",
       "<table border=\"1\" class=\"dataframe\">\n",
       "  <thead>\n",
       "    <tr style=\"text-align: right;\">\n",
       "      <th></th>\n",
       "      <th>মানুষ</th>\n",
       "      <th>পক্ষি</th>\n",
       "    </tr>\n",
       "  </thead>\n",
       "  <tbody>\n",
       "    <tr>\n",
       "      <th>পড়</th>\n",
       "      <td>Y21</td>\n",
       "      <td></td>\n",
       "    </tr>\n",
       "    <tr>\n",
       "      <th>কর</th>\n",
       "      <td>Y51</td>\n",
       "      <td>Y53</td>\n",
       "    </tr>\n",
       "    <tr>\n",
       "      <th>খায়</th>\n",
       "      <td>Y11</td>\n",
       "      <td>Y13</td>\n",
       "    </tr>\n",
       "  </tbody>\n",
       "</table>\n",
       "</div>"
      ],
      "text/plain": [
       "    মানুষ পক্ষি\n",
       "পড়    Y21      \n",
       "কর    Y51   Y53\n",
       "খায়   Y11   Y13"
      ]
     },
     "execution_count": 160,
     "metadata": {},
     "output_type": "execute_result"
    }
   ],
   "source": [
    "n_v_mat = pd.read_csv('n_v.csv', encoding = 'utf8', index_col = 0)\n",
    "n_v_mat"
   ]
  },
  {
   "cell_type": "markdown",
   "metadata": {},
   "source": [
    "Similarly objects.csv file holds the information of all valid objects to a noun type, verb type pair. This file has the column names with ids and each column contains all the valid objects for that id. **Here also, all the empty entries are ' ' (one whitespace)** \n",
    "\n",
    "\n",
    "*Here not specifying the index_col has resulted in pandas creating a default index column, which is not a problem here.*"
   ]
  },
  {
   "cell_type": "code",
   "execution_count": 161,
   "metadata": {},
   "outputs": [
    {
     "data": {
      "text/html": [
       "<div>\n",
       "<style scoped>\n",
       "    .dataframe tbody tr th:only-of-type {\n",
       "        vertical-align: middle;\n",
       "    }\n",
       "\n",
       "    .dataframe tbody tr th {\n",
       "        vertical-align: top;\n",
       "    }\n",
       "\n",
       "    .dataframe thead th {\n",
       "        text-align: right;\n",
       "    }\n",
       "</style>\n",
       "<table border=\"1\" class=\"dataframe\">\n",
       "  <thead>\n",
       "    <tr style=\"text-align: right;\">\n",
       "      <th></th>\n",
       "      <th>Y11</th>\n",
       "      <th>Y13</th>\n",
       "      <th>Y21</th>\n",
       "      <th>Y51</th>\n",
       "      <th>Y53</th>\n",
       "    </tr>\n",
       "  </thead>\n",
       "  <tbody>\n",
       "    <tr>\n",
       "      <th>0</th>\n",
       "      <td>মাংস</td>\n",
       "      <td>পোকামাকড়</td>\n",
       "      <td>বই</td>\n",
       "      <td>পড়াশোনা</td>\n",
       "      <td>কিচির-মিচির</td>\n",
       "    </tr>\n",
       "    <tr>\n",
       "      <th>1</th>\n",
       "      <td>সবজি</td>\n",
       "      <td>কেঁচো</td>\n",
       "      <td>কোরআন</td>\n",
       "      <td>খেলা</td>\n",
       "      <td>ডাকা-ডাকি</td>\n",
       "    </tr>\n",
       "    <tr>\n",
       "      <th>2</th>\n",
       "      <td>ফল</td>\n",
       "      <td>ফল</td>\n",
       "      <td>বাইবেল</td>\n",
       "      <td>কাজ</td>\n",
       "      <td>শব্দ</td>\n",
       "    </tr>\n",
       "    <tr>\n",
       "      <th>3</th>\n",
       "      <td>ভাত</td>\n",
       "      <td></td>\n",
       "      <td>পত্রিকা</td>\n",
       "      <td>চুরি</td>\n",
       "      <td></td>\n",
       "    </tr>\n",
       "    <tr>\n",
       "      <th>4</th>\n",
       "      <td>মুরগী</td>\n",
       "      <td></td>\n",
       "      <td></td>\n",
       "      <td>মারামারি</td>\n",
       "      <td></td>\n",
       "    </tr>\n",
       "    <tr>\n",
       "      <th>5</th>\n",
       "      <td>মাছ</td>\n",
       "      <td></td>\n",
       "      <td></td>\n",
       "      <td>ডাকাতি</td>\n",
       "      <td></td>\n",
       "    </tr>\n",
       "    <tr>\n",
       "      <th>6</th>\n",
       "      <td>পিঠা</td>\n",
       "      <td></td>\n",
       "      <td></td>\n",
       "      <td>ঝগড়া</td>\n",
       "      <td></td>\n",
       "    </tr>\n",
       "  </tbody>\n",
       "</table>\n",
       "</div>"
      ],
      "text/plain": [
       "     Y11        Y13      Y21       Y51          Y53\n",
       "0   মাংস   পোকামাকড়       বই   পড়াশোনা  কিচির-মিচির\n",
       "1   সবজি      কেঁচো    কোরআন      খেলা    ডাকা-ডাকি\n",
       "2     ফল         ফল   বাইবেল       কাজ         শব্দ\n",
       "3    ভাত             পত্রিকা      চুরি             \n",
       "4  মুরগী                      মারামারি             \n",
       "5    মাছ                        ডাকাতি             \n",
       "6   পিঠা                          ঝগড়া             "
      ]
     },
     "execution_count": 161,
     "metadata": {},
     "output_type": "execute_result"
    }
   ],
   "source": [
    "objects= pd.read_csv(\"object.csv\", encoding = 'utf8')\n",
    "objects"
   ]
  },
  {
   "cell_type": "markdown",
   "metadata": {},
   "source": [
    "### Semantic Error Function\n",
    "input: a Bangla Simple Sentence\n",
    "output: [the subject, the verb and a list of all valid objects for the subject and verb]\n",
    "\n",
    "        error, a boolean variable {if True: sentence has errors, else: sentence is correct\n",
    "        \n",
    "First we go through all the words of the sentence to find the noun(*the_noun variable*) and type of the noun(*subject variable*). Again we repeat the process to find the verb (*this_verb*) and type of the verb (*verb*). We lookup the n_v_matrix to find the id to the objects table. \n",
    "\n",
    " *If the id is ' ' (none) then we print the message that the noun and verb are incompatible and stop further process.*\n",
    " \n",
    " *Else we use the id to get the list of valid objects from the objects matrix. Now we again traverse all the words to see if the object in the sentence is present in valid objects list.*\n",
    " \n",
    "     -If the objecct is valid then there is no error. \n",
    "     -If not there is an error"
   ]
  },
  {
   "cell_type": "code",
   "execution_count": 165,
   "metadata": {},
   "outputs": [],
   "source": [
    "def semantic_error(sentence):\n",
    "    subject = ''\n",
    "    verb = ''\n",
    "    this_noun = ''\n",
    "    this_verb = ''\n",
    "    for word in sentence.split():\n",
    "        for i, c in nouns.items():\n",
    "            if word in c:\n",
    "                subject = i\n",
    "                this_noun = word\n",
    "        for i, c in verbs.items():\n",
    "            if word in c:\n",
    "                verb = i\n",
    "                this_verb = word\n",
    "    valid_object_key = n_v_mat[subject].loc[verb]\n",
    "    if valid_object_key == ' ':\n",
    "        print(\"Error: '\" + this_noun + \"' and '\" + this_verb + \"' can not be used together\")\n",
    "        return None, None\n",
    "    valid_objects = objects[valid_object_key].to_list()\n",
    "    err = True\n",
    "    for word in sentence.split():\n",
    "        if word in valid_objects:\n",
    "            err = False\n",
    "    output = [this_noun, this_verb, valid_objects]\n",
    "    return output, err"
   ]
  },
  {
   "cell_type": "code",
   "execution_count": 183,
   "metadata": {},
   "outputs": [],
   "source": [
    "sentence = 'জামাল ডাকাতি করে'"
   ]
  },
  {
   "cell_type": "markdown",
   "metadata": {},
   "source": [
    "If there is an error, a sentence is suggested using the list returned by the semantic_error function. The noun and verb are fixed and an object is randomly picked from the valid objects list suing the numpys random.choice method, which returns an item randomly from an array.\n",
    "\n",
    "Else the message is printed saying there is no error."
   ]
  },
  {
   "cell_type": "code",
   "execution_count": 184,
   "metadata": {},
   "outputs": [
    {
     "name": "stdout",
     "output_type": "stream",
     "text": [
      "The sentence is correct\n"
     ]
    }
   ],
   "source": [
    "output, error = semantic_error(sentence)\n",
    "if error != None :\n",
    "    if error:\n",
    "        suggested_object = ' '\n",
    "        while (suggested_object == ' '):\n",
    "            suggested_object = np.random.choice(output[2])\n",
    "        suggestion = output[0] + ' ' + suggested_object + ' ' + output[1]\n",
    "        print('The sentence is not correct. Here is a suggestion: ' + suggestion)\n",
    "    else:\n",
    "        print('The sentence is correct')"
   ]
  },
  {
   "cell_type": "code",
   "execution_count": null,
   "metadata": {},
   "outputs": [],
   "source": []
  }
 ],
 "metadata": {
  "kernelspec": {
   "display_name": "Python 3",
   "language": "python",
   "name": "python3"
  },
  "language_info": {
   "codemirror_mode": {
    "name": "ipython",
    "version": 3
   },
   "file_extension": ".py",
   "mimetype": "text/x-python",
   "name": "python",
   "nbconvert_exporter": "python",
   "pygments_lexer": "ipython3",
   "version": "3.7.6"
  }
 },
 "nbformat": 4,
 "nbformat_minor": 4
}
